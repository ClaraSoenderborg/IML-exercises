{
  "cells": [
    {
      "cell_type": "code",
      "execution_count": 1,
      "id": "css_setup",
      "metadata": {
        "jupyter": {
          "source_hidden": true
        }
      },
      "outputs": [
        {
          "data": {
            "text/html": [
              "\n",
              "<style>\n",
              "@import \"https://cdn.jsdelivr.net/npm/bulma@0.9.4/css/bulma.min.css\";\n",
              "</style>\n"
            ],
            "text/plain": [
              "<IPython.core.display.HTML object>"
            ]
          },
          "execution_count": 1,
          "metadata": {},
          "output_type": "execute_result"
        }
      ],
      "source": [
        "import requests\n",
        "from IPython.core.display import HTML\n",
        "HTML(f\"\"\"\n",
        "<style>\n",
        "@import \"https://cdn.jsdelivr.net/npm/bulma@0.9.4/css/bulma.min.css\";\n",
        "</style>\n",
        "\"\"\")"
      ]
    },
    {
      "cell_type": "markdown",
      "id": "WTO7_cDeoxIwAMes6fDPQ",
      "metadata": {},
      "source": [
        "# Practical introduction to Python and Numpy\n",
        "\n",
        "**Important**\n",
        "We recommend that you use use either _Jupyter Lab_ (not notebook) or _Visual Studio Code_ to solve the exercises as you may otherwise risk bad formatting of the exercises. The _Jupyter Lab_  and the _Visual Studio Code_ exercise files are located in different folders in the course material repository on OneDrive. \n",
        "\n",
        "\n",
        "<article class=\"message\">\n",
        "    <div class=\"message-body\">\n",
        "        <strong>Overview of tasks</strong>\n",
        "        <ul style=\"list-style: none;\">\n",
        "            <li>\n",
        "            <a href=\"#norm\">Task 1: Vector length</a>\n",
        "            </li>\n",
        "            <li>\n",
        "            <a href=\"#comprehensions\">Task 2: List comprehensions</a>\n",
        "            </li>\n",
        "            <li>\n",
        "            <a href=\"#dotproduct\">Task 3: Inner product</a>\n",
        "            </li>\n",
        "            <li>\n",
        "            <a href=\"#indexing\">Task 4: Array indexing</a>\n",
        "            </li>\n",
        "            <li>\n",
        "            <a href=\"#norm_np\">Task 5: Length using numpy</a>\n",
        "            </li>\n",
        "            <li>\n",
        "            <a href=\"#angle\">Task 6: Calculating angles</a>\n",
        "            </li>\n",
        "            <li>\n",
        "            <a href=\"#distances\">Task 7: Distances - continued</a>\n",
        "            </li>\n",
        "        </ul>\n",
        "    </div>\n",
        "</article>\n",
        "\n",
        "This exercise delves deeper into the syntax of Python and NumPy, providing guidelines for effectively working with arrays using both lists (native) and NumPy arrays. The first part of the exercise is about implementing basic linear algebra operations using lists while the second part is about using Numpy arrays.Notice, in this course we will primarily be using Numpy when operating on vectors and matrices.\n",
        "**Note:** Run each code cell as you progress through the exercise. Incomplete cells are part of tasks and have to be completed by you.\n",
        "\n",
        "## Using native types in Python to implement basic linear algebra operations\n",
        "The vectors `va`\n",
        " and `vb`\n",
        " are defined as:\n"
      ]
    },
    {
      "cell_type": "code",
      "execution_count": 2,
      "id": "CXzIxGdRnWJE8QfaErLsz",
      "metadata": {},
      "outputs": [],
      "source": [
        "va = [2, 2]\n",
        "vb = [3, 4]"
      ]
    },
    {
      "cell_type": "markdown",
      "id": "RH_QQT3qLr9B1x9PV8Ghp",
      "metadata": {},
      "source": [
        "## Vector length\n",
        "The length (L2-norm) of a vector is defined as\n",
        "\n",
        "$$||v|| = \\sqrt{\\sum_{i=1}^N v_i^2}.$$\n",
        "\n",
        "---\n",
        "**Task 1 (easy): Vector length👩‍💻**\n",
        "1. Implement the length as a Python function in the code cell below.\n",
        "2. Calculate the length of the vectors `va`\n",
        " and `vb`\n",
        " using the implementation from (1).\n",
        "3. Verify the result using pen and paper.\n",
        "\n",
        "**Hints:** \n",
        "- For-loops in Python loop through the elements of an iterator and takes the current iterator value as the iteration variable, similar to for-each loops in Java.\n",
        "- The `range(x)`\n",
        " function in Python returns an iterator of integers from $0,\\dots, x-1$.\n",
        "- The length of a list `l`\n",
        " can be found using the `len(l)`\n",
        " function.\n",
        "- The `**`\n",
        " operator implements exponentiation in Python. For the square root of `x`\n",
        ", use `x**(1/2)`\n",
        ".\n",
        "- Use Python's built in `help(<function/class/method>)`\n",
        " function for additional documentation. In Jupyter Lab, you can also open a documentation popover by pressing placing the text cursor on the desired symbol and pressing **Shift + Tab**.\n",
        "\n",
        "\n",
        "---"
      ]
    },
    {
      "cell_type": "code",
      "execution_count": 3,
      "id": "O_Kj5_mhF3TwfcDFUgVmV",
      "metadata": {},
      "outputs": [
        {
          "name": "stdout",
          "output_type": "stream",
          "text": [
            "a 2.8284271247461903\n",
            "b 5.0\n"
          ]
        }
      ],
      "source": [
        "def length(v):\n",
        "    sum = 0\n",
        "    for i in range(len(v)):\n",
        "        sum = sum + v[i]*v[i]\n",
        "    return sum**(1/2)\n",
        "\n",
        "\n",
        "\n",
        "print('a', length(va))\n",
        "print('b', length(vb))\n",
        "assert length(va) == 8**0.5\n",
        "assert length(vb) == 5"
      ]
    },
    {
      "cell_type": "markdown",
      "id": "MjZbrEzNL_I3YW2aBr36H",
      "metadata": {},
      "source": [
        "## List comprehensions\n",
        "Using loops for list iteration requires quite a lot of boilerplate code. Fortunately, Python's _list comprehensions_ are \n",
        "created to make list iteration more expressive and easier to understand.\n",
        "A list comprehension has the following form\n",
        "```python\n",
        "[f(e) for e in list]\n",
        "\n",
        "\n",
        "```\n",
        "\n",
        "where $f$ is an arbitrary function applied to each element $e$.  This \n",
        "is equivalent to the `map`\n",
        " function in functional programming. _Note: List comprehensions can also include guard rules. You can read more about \n",
        "list comprehensions [here](https://docs.python.org/3/tutorial/datastructures.html#list-comprehensions)\n",
        "._\n",
        "Python also provides a wealth of utility functions for performing common list operations. One such function is\n",
        "```python\n",
        "sum(l)\n",
        "\n",
        "\n",
        "```\n",
        "\n",
        "which sums all elements in the list argument.\n",
        "\n",
        "---\n",
        "**Task 2 (easy): List comprehensions👩‍💻**\n",
        "1. Implement the `length2`\n",
        " function in the cell below by using a list comprehension and the [`sum`\n",
        " function](https://docs.python.org/3.10/library/functions.html#sum)\n",
        ".    - First, exponentiate each element in a list comprehension, resulting in a new list of values.\n",
        "    - Then use the `sum`\n",
        " function to add all elements and calculate the square root of the sum.\n",
        "\n",
        "\n",
        "2. Verify the result using pen and paper.\n",
        "\n",
        "\n",
        "---"
      ]
    },
    {
      "cell_type": "code",
      "execution_count": 4,
      "id": "YLWloqSkp-WIzxQmn8Gt2",
      "metadata": {},
      "outputs": [
        {
          "name": "stdout",
          "output_type": "stream",
          "text": [
            "a 2.8284271247461903\n",
            "b 5.0\n"
          ]
        }
      ],
      "source": [
        "def length2(v):\n",
        "    return sum([x**2 for x in v])**(1/2)\n",
        "\n",
        "print('a', length2(va))\n",
        "print('b', length2(vb))\n",
        "assert length2(va) == 8**0.5\n",
        "assert length2(vb) == 5"
      ]
    },
    {
      "cell_type": "markdown",
      "id": "QYnsjbVaxHyOUBpwN0rOb",
      "metadata": {},
      "source": [
        "\n",
        "---\n",
        "**Task 3 (easy): Inner product👩‍💻**\n",
        "In this task you will calculate the dot product of two vectors using lists. The definition of the dot product:\n",
        "\n",
        "$$\n",
        "a\\cdot b = \\sum_{i=1}^N a_ib_i.\n",
        "$$\n",
        "where $a$ and $b$ are $n$-dimensional vectors.\n",
        "1. Complete the function `dot`\n",
        " below by implementing the inner (dot) product using either for-loops or list \n",
        "comprehensions.    - _Note: If you want to use list comprehensions you need the function `zip`\n",
        " to interleave the two lists. The `zip`\n",
        " function is \n",
        "equivalent to `zip`\n",
        " in most functional programming languages. The documentation can be found \n",
        "[here](https://docs.python.org/3/library/functions.html#zip)\n",
        "_\n",
        "\n",
        "\n",
        "2. Test the implementation on `va`\n",
        " and `vb`\n",
        ". Verify the results using pen and paper.\n",
        "\n",
        "\n",
        "---"
      ]
    },
    {
      "cell_type": "code",
      "execution_count": 5,
      "id": "eZZRTF-UjPfFkxmrdwEIB",
      "metadata": {},
      "outputs": [
        {
          "name": "stdout",
          "output_type": "stream",
          "text": [
            "14\n"
          ]
        }
      ],
      "source": [
        "def dot(a, b):\n",
        "    return sum([x*y for x,y in zip(a, b)])\n",
        "    \n",
        "        \n",
        "\n",
        "# Tests\n",
        "print(dot(va, vb))\n",
        "assert dot(va, vb) == 14"
      ]
    },
    {
      "cell_type": "markdown",
      "id": "Y2-nMp0-XPOdEt8BRlZfE",
      "metadata": {},
      "source": [
        "## Numpy\n",
        "Numpy makes it way easier to work with multidimensional arrays and provides a significant performance increase when operating on arrays. Refer to this week's tutorial\n",
        " for further information.\n",
        "The following code imports the `numpy`\n",
        " package and creates a $3\\times 3$ matrix:\n",
        "**Note:** Note that the import statement renames `numpy`\n",
        " to `np`\n",
        ". This is commonly done in Python to avoid namespace confusion.\n",
        "\n"
      ]
    },
    {
      "cell_type": "code",
      "execution_count": 6,
      "id": "i6K1hSpAgsJ_AmMBR9vWj",
      "metadata": {},
      "outputs": [],
      "source": [
        "import numpy as np\n",
        "\n",
        "A = np.array([\n",
        "    [1, 2, 3],\n",
        "    [3, 4, 9],\n",
        "    [5, 7, 3]\n",
        "])"
      ]
    },
    {
      "cell_type": "markdown",
      "id": "moRkY8Q0N0dKZNCrlydC-",
      "metadata": {},
      "source": [
        "Use `A.shape`\n",
        " to get the dimensions (size) of the array. The `shape`\n",
        " property works on all Numpy arrays, e.g. `(A*2).shape`\n",
        " works as well (we will \n",
        "return to array operations later in this exercise).\n",
        "The cell below prints the shape of `A`\n",
        ":\n"
      ]
    },
    {
      "cell_type": "code",
      "execution_count": 7,
      "id": "4eX2YzIoqqYGo_NU7003i",
      "metadata": {},
      "outputs": [
        {
          "data": {
            "text/plain": [
              "(3, 3)"
            ]
          },
          "execution_count": 7,
          "metadata": {},
          "output_type": "execute_result"
        }
      ],
      "source": [
        "A.shape"
      ]
    },
    {
      "cell_type": "markdown",
      "id": "0EPd8Rq-HTvm91RrztILz",
      "metadata": {},
      "source": [
        "## Slicing\n",
        "Slicing allows you to select a subarray of elements using the `<start>:<stop>`\n",
        " notation, e.g. `0:2`\n",
        ". Inspect the code cell below for a few examples:\n"
      ]
    },
    {
      "cell_type": "code",
      "execution_count": 8,
      "id": "xUFMF1gvRzYnT8NA3zzA7",
      "metadata": {},
      "outputs": [
        {
          "name": "stdout",
          "output_type": "stream",
          "text": [
            "single element [1 2 3]\n",
            "vector of elements [2 4]\n",
            "matrix of elements\n",
            " [[1 2]\n",
            " [3 4]\n",
            " [5 7]]\n"
          ]
        }
      ],
      "source": [
        "single = A[0]\n",
        "print('single element', single)\n",
        "\n",
        "vector = A[:2, 1] # 0's can be ommitted.\n",
        "print('vector of elements', vector)\n",
        "\n",
        "matrix = A[:, :2]\n",
        "print('matrix of elements\\n', matrix)"
      ]
    },
    {
      "cell_type": "markdown",
      "id": "goHC8Xe0A2xogTcFbH-A-",
      "metadata": {},
      "source": [
        "Negative indices are equivalent to counting backwards from the end of the array, i.e. `-<idx>`\n",
        "\n",
        "is equivalent to `len(a)-<idx>`\n",
        ". A few examples:\n"
      ]
    },
    {
      "cell_type": "code",
      "execution_count": 9,
      "id": "cxnqrjE6hglgZZ9wcRpeX",
      "metadata": {},
      "outputs": [
        {
          "name": "stdout",
          "output_type": "stream",
          "text": [
            "single 3\n",
            "arange [[1 2]]\n"
          ]
        }
      ],
      "source": [
        "single = A[-1, -1]\n",
        "print('single', single)\n",
        "\n",
        "arange = A[0:-2, 0:-1]\n",
        "print('arange', arange)"
      ]
    },
    {
      "cell_type": "markdown",
      "id": "qKBDxKy_x7sSUce9kEzyH",
      "metadata": {},
      "source": [
        "\n",
        "**Info**\n",
        "You can find the official documentation for Numpy slicing [here](https://numpy.org/doc/stable/user/basics.indexing.html)\n",
        ".\n",
        "\n",
        "\n",
        "---\n",
        "**Task 4 (easy): Array indexing👩‍💻**\n",
        "Use slicing to create the following variables:\n",
        "1. Create a 2x2 matrix `ur`\n",
        " from of the upper right corner of `A`\n",
        ".\n",
        "2. Extract the 2nd row of `A`\n",
        " and store it in the variable `row`\n",
        ".\n",
        "3. Extract the 1st column of `A`\n",
        " and store it in the variable `col`\n",
        ".\n",
        "\n",
        "\n",
        "---"
      ]
    },
    {
      "cell_type": "code",
      "execution_count": 10,
      "id": "ZBY4RxUHdAhDBLb-EjpR6",
      "metadata": {},
      "outputs": [
        {
          "name": "stdout",
          "output_type": "stream",
          "text": [
            "upper right\n",
            " [[2 3]\n",
            " [4 9]]\n",
            "row [3 4 9]\n",
            "column [1 3 5]\n"
          ]
        }
      ],
      "source": [
        "ur = A[:2, 1:]\n",
        "row = A[1]\n",
        "col = A[:, 0]\n",
        "\n",
        "print('upper right\\n', ur)\n",
        "print('row', row)\n",
        "print('column', col)\n",
        "\n",
        "# Tests\n",
        "assert np.all(ur == np.array([[2, 3], [4, 9]]))\n",
        "assert np.all(row == np.array([3, 4, 9]))\n",
        "assert np.all(col == np.array([1, 3, 5]))"
      ]
    },
    {
      "cell_type": "markdown",
      "id": "McXusHY_A7_KH0cT7V580",
      "metadata": {},
      "source": [
        "---\n",
        "## Using Numpy array operations\n",
        "While these implementations seem fine for small inputs, they become unbearingly slow for large arrays.\n",
        "Let's try an example. The code below uses numpy to generate $1000000$-dimensional vectors of random numbers:\n"
      ]
    },
    {
      "cell_type": "code",
      "execution_count": 11,
      "id": "g01ZjcQ2LIKxE5bVFpokF",
      "metadata": {},
      "outputs": [],
      "source": [
        "ta = np.random.randint(100, size=1000000)\n",
        "tb = np.random.randint(100, size=1000000)"
      ]
    },
    {
      "cell_type": "markdown",
      "id": "mXyEaMgYR3SVYtBEgNRMm",
      "metadata": {},
      "source": [
        "\n",
        "**Info**\n",
        "In this course the speed of your programs should not be of a major concern.\n",
        "\n",
        "Jupyter notebooks support the command `%timeit <statement>`\n",
        ", which runs a performance test on a given statement. This makes it possible to performance test the native implementation of the inner product from [Task 3](#dotproduct):\n"
      ]
    },
    {
      "cell_type": "code",
      "execution_count": 12,
      "id": "SxGpui2PEcViiMZvLUbnZ",
      "metadata": {},
      "outputs": [
        {
          "name": "stdout",
          "output_type": "stream",
          "text": [
            "88.8 ms ± 2.59 ms per loop (mean ± std. dev. of 7 runs, 10 loops each)\n"
          ]
        }
      ],
      "source": [
        "%timeit dot(ta, tb)"
      ]
    },
    {
      "cell_type": "markdown",
      "id": "eKdX6pTlzAeAbS1sD1FQo",
      "metadata": {},
      "source": [
        "Not very fast, huh? Let's try using Numpy's built-in function for inner products, `np.dot`\n",
        ":\n"
      ]
    },
    {
      "cell_type": "code",
      "execution_count": 13,
      "id": "QP7j7rE_8KJ8nnWE6ku27",
      "metadata": {},
      "outputs": [
        {
          "name": "stdout",
          "output_type": "stream",
          "text": [
            "408 μs ± 5.43 μs per loop (mean ± std. dev. of 7 runs, 1,000 loops each)\n"
          ]
        }
      ],
      "source": [
        "%timeit np.dot(ta, tb)"
      ]
    },
    {
      "cell_type": "markdown",
      "id": "9l0j6h9hOQwxqD4PtFpsO",
      "metadata": {},
      "source": [
        "This is approximately 300 times faster than the native implementation (on the test computer, anyway)!. What about other list operations? Let's try the `sum`\n",
        " function:\n"
      ]
    },
    {
      "cell_type": "code",
      "execution_count": 14,
      "id": "9QeN_8RjhT6MfG-SXev54",
      "metadata": {},
      "outputs": [
        {
          "name": "stdout",
          "output_type": "stream",
          "text": [
            "35.1 ms ± 2.06 ms per loop (mean ± std. dev. of 7 runs, 10 loops each)\n",
            "122 μs ± 3 μs per loop (mean ± std. dev. of 7 runs, 10,000 loops each)\n"
          ]
        }
      ],
      "source": [
        "%timeit sum(ta)\n",
        "%timeit np.sum(ta)"
      ]
    },
    {
      "cell_type": "markdown",
      "id": "zvMWSuLyDmjqcH1eBzm6a",
      "metadata": {},
      "source": [
        "Again, a similar performance improvement. Because of its performance, Numpy should always be used instead of native Python wherever possible. In general, you should expect a speed improvement of several orders of magnitude when using Numpy.\n",
        "Beware that speed is not a central topic for this course - but hey there is no reason to waste our time either!\n",
        "## Adapting to Numpy\n",
        "This exercise is about adapting the `length`\n",
        " function implemented int [Task 1](#norm) to Numpy.  Overloaded operators are common in Numpy. For example,  the `**`\n",
        " operator can be used to raise the elements of a NumPy array x to any power. For example `x**4`\n",
        "  raises all elements of the array `x`\n",
        " to the  power of $4$\n",
        "\n",
        "---\n",
        "**Task 5 (easy): Length using numpy👩‍💻**\n",
        "1. In the cell below, implement `length_np`\n",
        " using Numpy. You can use Numpy's sum function (`np.sum`\n",
        ").\n",
        "2. Test it on the provided input `vec`\n",
        ".\n",
        "\n",
        "\n",
        "---"
      ]
    },
    {
      "cell_type": "code",
      "execution_count": 15,
      "id": "ngOVKAy_RaxIAiJh1TPVZ",
      "metadata": {},
      "outputs": [
        {
          "name": "stdout",
          "output_type": "stream",
          "text": [
            "1.0\n"
          ]
        },
        {
          "data": {
            "text/plain": [
              "np.float64(7.3484692283495345)"
            ]
          },
          "execution_count": 15,
          "metadata": {},
          "output_type": "execute_result"
        }
      ],
      "source": [
        "def length_np(v):\n",
        "    return sum(v**2)**(1/2)\n",
        "\n",
        "print(length_np(np.array([-0.6,0.8])))\n",
        "\n",
        "vec = np.array([2, 3, 4, 5])\n",
        "length_np(vec)"
      ]
    },
    {
      "cell_type": "markdown",
      "id": "e0LvFUfq7pnDg9mstnZZ1",
      "metadata": {},
      "source": [
        "Compare the Python and Numpy implementations using an array of random numbers:\n"
      ]
    },
    {
      "cell_type": "code",
      "execution_count": 25,
      "id": "LKjh7jCJHTvXHEUGulXEN",
      "metadata": {},
      "outputs": [
        {
          "name": "stdout",
          "output_type": "stream",
          "text": [
            "344 μs ± 961 ns per loop (mean ± std. dev. of 7 runs, 1,000 loops each)\n",
            "1.3 ms ± 10.2 μs per loop (mean ± std. dev. of 7 runs, 1,000 loops each)\n",
            "637 μs ± 1.26 μs per loop (mean ± std. dev. of 7 runs, 1,000 loops each)\n"
          ]
        }
      ],
      "source": [
        "vr = np.random.randint(100, size=10000)\n",
        "\n",
        "%timeit length_np(vr)\n",
        "%timeit length(vr)\n",
        "%timeit length2(vr)"
      ]
    },
    {
      "cell_type": "markdown",
      "id": "t_VZVWItKahdVk-xsVn9O",
      "metadata": {},
      "source": [
        "This should reveal a large difference between the Numpy and Python implementations.\n",
        "## Angles between vectors\n",
        "The angle between vectors $\\mathbf{u}$ and $\\mathbf{v}$ is described by the following relation (as will be presented in the lecture):\n",
        "\n",
        "$$\n",
        "\\cos \\theta = \\frac{\\mathbf{u}\\cdot \\mathbf{v}}{\\|\\mathbf{u}\\|\\|\\mathbf{v}\\|}\n",
        "$$\n",
        "or equivalently \n",
        "\n",
        "$$\n",
        "\\mathbf{u}\\cdot \\mathbf{v} = |\\mathbf{u}\\|\\|\\mathbf{v}\\|\\cos \\theta \n",
        "$$\n",
        "_Note to self: Return the result as a tuple of (radians, degrees). Check what resources we currently have on tuples_\n",
        "\n",
        "---\n",
        "**Task 6 (easy): Calculating angles👩‍💻**\n",
        "1. Use Numpy to implement the `angle`\n",
        " function in the code cell below. The function should return the angle in radians between inputs `a`\n",
        " and `b`\n",
        ".\n",
        "2. Verify the example below using pen and paper.\n",
        "3. Make a new function called `angle2`\n",
        ", which returns a tuple containing the angle in radians and degrees. Verify the results using a calculator.\n",
        "\n",
        "\n",
        "---"
      ]
    },
    {
      "cell_type": "code",
      "execution_count": 29,
      "id": "b-I2DErKdKCvklwe2RpZn",
      "metadata": {},
      "outputs": [
        {
          "name": "stdout",
          "output_type": "stream",
          "text": [
            "1.1426035712129559\n"
          ]
        }
      ],
      "source": [
        "import math \n",
        "def angle(a, b):\n",
        "    return math.acos(np.dot(a, b)/(length_np(a)*length_np(b)))\n",
        "\n",
        "a = np.array([2, 3, 4])\n",
        "b = np.array([0, -1, 2])\n",
        "print(angle(a, b)) # The result should be: 1.1426035712129559\n",
        "assert angle(a, b) == 1.1426035712129559"
      ]
    },
    {
      "cell_type": "markdown",
      "id": "J016qQpbPBjLWM4twb5H7",
      "metadata": {},
      "source": [
        "## Distances\n",
        "The Euclidean distance between two vectors $\\mathbf{a}$ and $\\mathbf{b}$ is calculated as the length of the difference vector between $\\mathbf{a}$ and $\\mathbf{b}$, i.e. $\\|\\mathbf{a}-\\mathbf{b}\\|$.\n",
        "\n",
        "---\n",
        "**Task 7 (medium): Distances👩‍💻**\n",
        "1. Use the code cell below to create two-dimensional vectors $\\mathbf{a}=\\begin{bmatrix}0\\\\0\\end{bmatrix}$ and $\\mathbf{b}=\\begin{bmatrix}1\\\\1\\end{bmatrix}$ using `np.zeros`\n",
        " and `np.ones`\n",
        " (refer to the tutorial for inspiration).\n",
        "2. Calculate the distance between the points and print the result.\n",
        "3. Create n-dimensional vectors $\\mathbf{a}=\\begin{bmatrix}0\\\\\\vdots\\\\0\\end{bmatrix}$ and $\\mathbf{b}=\\begin{bmatrix}1\\\\\\vdots\\\\1\\end{bmatrix}$ using `np.zeros`\n",
        " and `np.ones`\n",
        " (refer to the tutorial for inspiration) for $n=1, \\dots, 10$. Calculate the distance between the vectors for each number of dimensions. Plot the distances as a function of $n$.\n",
        "\n",
        "\n",
        "---"
      ]
    },
    {
      "cell_type": "code",
      "execution_count": 0,
      "id": "Zrtur9ej6qi6wwjr4dB8S",
      "metadata": {},
      "outputs": [],
      "source": [
        "# Write your solution here"
      ]
    },
    {
      "cell_type": "markdown",
      "id": "itWmUPsBtDCsNpYl1Syha",
      "metadata": {},
      "source": [
        "\n",
        "---\n",
        "**Task 8 (medium): Distances - continued💡**\n",
        "This task extends on the previous exercise.\n",
        "1. Explain the relationship in the figure between the number of dimensions and the distance.\n",
        "2. Derive a formula for the distance between $\\mathbf{a}$ and $\\mathbf{b}$ as a function of the number of dimensions $n$, i.e. $f(n)=?$\n",
        "\n",
        "\n",
        "---"
      ]
    }
  ],
  "metadata": {
    "kernelspec": {
      "display_name": "iml",
      "language": "python",
      "name": "python3"
    },
    "language_info": {
      "codemirror_mode": {
        "name": "ipython",
        "version": 3
      },
      "file_extension": ".py",
      "mimetype": "text/x-python",
      "name": "python",
      "nbconvert_exporter": "python",
      "pygments_lexer": "ipython3",
      "version": "3.11.13"
    }
  },
  "nbformat": 4,
  "nbformat_minor": 5
}
